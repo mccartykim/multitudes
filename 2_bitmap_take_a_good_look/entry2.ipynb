{
 "cells": [
  {
   "cell_type": "markdown",
   "metadata": {},
   "source": [
    "## Take a good look\n",
    "\n",
    "As WAV was one of the simplest ways to hold an audio file, bitmaps are one of the simplest ways to hold an image file. Like WAV, there's no compression, lossy or otherwise.\n",
    "\n",
    "## Context: What is stored?\n",
    "\n",
    "If you have sight, it's probably one of your most prominent senses. Eyes tell us all about our environment. It was natural that computers would go beyond text to show images.\n",
    "\n",
    "Our eyes and cameras see light as it hits a plane. We have no real idea where the photons are going, just what their wavelength are and where they hit. So each of our eyes and a single camera will see a plane of wavelengths.\n",
    "\n",
    "While our audio files map out a single signal over one dimension, times the number of channels, images are a two dimensional signal best mapped on a grid. Further, there's the question of storing color in each cell of this grid. And in a sense, there's another level of depth in terms of the number of bits that go into describing the color in each cell. The number of colors one pixel can depict is a matter of \"bit depth.\"\n",
    "\n",
    "Color space is its own issue. While we can imagine most colors as a mixture of red, green, and blue light, and easily store color as three channels of color, we do not percieve all colors equally. Further, in low light, we percieve less color, and in near-darkness, we barely percieve color at all, because our retina's monochromatic rod cells function in low light unlike our color-sensitive cone cells.\n",
    "\n",
    "Here is a chart of where are eyes are most and least sensitive to color, assuming you aren't colorblind. [Courtesy of Wikimedia](https://en.wikipedia.org/wiki/File:Eyesensitivity.svg).\n",
    "\n",
    "![img](https://i.imgur.com/WF1fIJj.png)\n",
    "\n",
    "As you can see, our eyes are most attuned to greens, and less to more violet and red shades. From an evolutionary perspective, it's speculated this is to do with the importance of distinguishing plants in a prehistoric environment. But this is a blogpost about image formats and not how we evolved to be the smartest apes.\n",
    "\n",
    "In addition, color space can also hold an alpha channel, which explains how translucent a pixel should be. This matters if you're drawing the image over a background, or working in a graphics program with layers.\n",
    "\n",
    "But the past two paragraphs aren't extremely relevant here. But imagine how this knowledge could make a more compact/effective image format.\n",
    "\n",
    "Rather, what bitmap formats do is keep a list of the color for each pixel. They can either write the entire color value (with a value for red, green, and blue intensity in a color image), or in some cases they use a color map. A colormap is a lookup table for each color used in the image, with the index standing in for the color. This saves some space if there's repetition in the color values. That means a single integer stands in for what would be a three or four integer structure. It reminds me a bit of the [palette systems older video game consoles used](https://en.wikipedia.org/wiki/List_of_video_game_console_palettes).\n",
    "\n",
    "## The Metadata\n",
    "\n",
    "For this article, we're looking at the somewhat obsolete TGA format. Microsoft's BMP format is more popular, but I found the header rather complicated, and I didn't want to focus on a bunch of fields to do with compressions and modes I wouldn't be discussing.\n",
    "\n",
    "Let's look at TGA's header.\n",
    "\n",
    "The fields are arranged like:\n",
    "\n",
    "Index | Length | Name\n",
    "--- | --- | --- \n",
    "1 | 1 | ID length\n",
    "2 | 1 | Color Map Type\n",
    "3 | 1 | Image Type\n",
    "4 | 5 | Color Map Specification\n",
    "5 | 10 | Image specification\n",
    "\n",
    "Let's get into what these are:\n",
    "* ID Length: The length of the ID field, which was often used for timestamps or some kind of serial number. A bit like a smaller version of EXIF data you find in newer image formats, but that's for later :)\n",
    "* Color map type: A byte that's a boolean for if the image has a color map (0 means no color map, 1 means there is one), and other values were reserved for extensions by TrueVision or developers.\n",
    "* Image Type: TGA supports a few different encodings and color spaces, as well as some very basic compression. This shares the size of each color and how to go about decoding the image. It even supports a file with no image data, 0. That surprises me, but I guess it might have come in handy in graphics software that needed placeholder files? If anybody knows, message me! \n",
    "    * 0 No image\n",
    "    * 1 Uncompressed color mapped\n",
    "    * 2 Uncompressed true color image\n",
    "    * 3 Uncompressed grayscale\n",
    "    * 9 Run-length encoded color-mapped image\n",
    "    * 10 Run-length encoded true-color image\n",
    "    * 11 Run-length encoded grayscale image\n",
    "> Digression: Run-length encoding is a lossless and simple compression scheme where repeating consecutive values are not repeated, but stored once with a multiplier. So in a string, \"baaaaaaaaaaanana\" would become \"ba(11)nana.\"\n",
    "* Color map specification: Has three fields in itself\n",
    "\n",
    "Index | Length (bytes) | Name | Description\n",
    "--- | --- | --- | ---\n",
    "1 | 2 | Index | The first entry in the color map is at this byte index\n",
    "2 | 2 | Length | The length of the color map in bytes\n",
    "3 | 1 | Entry Size | The number of bits in each pixel\n",
    "\n",
    "* Image specification: Contains the x-origin (2 bytes), the y-origin (2 bytes), image width and height (2 bytes each), pixel depth, and image descriptor.\n",
    "\n",
    "After that, we optionally have the image ID, and we optionally have the colormap, and finally the image data.\n",
    "\n",
    "## The data\n",
    "\n",
    "Without run-length encoding, what occurs as the actual content is some mixture of colors. Those colors are either specified everytime without a colormap, OR they are a value to be looked up in the colormap.\n",
    "\n",
    "To place the pixels, the image is stored as a flattened 2d array. So, to access a pixel from an array, you would access it like `image_bytes[(y * width) + x]`.\n",
    "\n",
    "## Making a picture\n",
    "\n",
    "Let's try to encode an image from scratch.\n",
    "\n",
    "The simplest possible image I can think of that isn't just blank would be a single pixel color, repeated. Let's encode that and move on to bigger things."
   ]
  },
  {
   "cell_type": "code",
   "execution_count": 54,
   "metadata": {},
   "outputs": [],
   "source": [
    "import struct\n",
    "\n",
    "# Make a bytestring to start a 100x100 True Color TGA file\n",
    "def make_header():\n",
    "    buf = bytearray()\n",
    "    # add ID length, 0 as we will not use one\n",
    "    buf.append(0)\n",
    "    # no colormap\n",
    "    buf.append(0)\n",
    "    # Image type - uncompressed true color image\n",
    "    buf.append(2)\n",
    "    # Colormap is null, just five empty bytes\n",
    "    buf.extend(b\"\\x00\" * 5)\n",
    "    # x origin and y origin, both 0 as a 2-byte integer\n",
    "    buf.extend(b\"\\x00\" *2)\n",
    "    buf.extend(b\"\\x00\" *2)\n",
    "    # width and height\n",
    "    buf.extend(struct.pack(\"H\", 100))\n",
    "    buf.extend(struct.pack(\"H\", 100))\n",
    "    # bits per pixel, 24 bits AKA 18 in hex\n",
    "    buf.extend(b\"\\x18\")\n",
    "    # info about alpha, 0\n",
    "    buf.extend(b\"\\x00\")\n",
    "    return buf\n",
    "\n",
    "def make_green_tga(header):\n",
    "    buf = header\n",
    "    # BEGIN BITMAP\n",
    "    for _ in range(10000):\n",
    "        # Pix 1: Blue\n",
    "        buf.extend(b\"\\x50\")\n",
    "        # Pix 2: Green\n",
    "        buf.extend(b\"\\xAA\")\n",
    "        # Pix 3: Red\n",
    "        buf.extend(b\"\\x50\")\n",
    "    return buf\n",
    "\n",
    "buf = make_green_tga(make_header())\n",
    "with open(\"pixel.tga\", \"wb\") as f:\n",
    "    f.write(buf)"
   ]
  },
  {
   "cell_type": "code",
   "execution_count": 55,
   "metadata": {},
   "outputs": [],
   "source": [
    "# Sadly, we must convert the TGA to a PNG so that Jupyter Notebooks can display our data\n",
    "!convert pixel.tga pixel.png"
   ]
  },
  {
   "cell_type": "code",
   "execution_count": 56,
   "metadata": {},
   "outputs": [
    {
     "data": {
      "image/png": "[encoded data removed]",
      "text/plain": [
       "<IPython.core.display.Image object>"
      ]
     },
     "execution_count": 56,
     "metadata": {},
     "output_type": "execute_result"
    }
   ],
   "source": [
    "from IPython.display import Image \n",
    "Image(filename='pixel.png')"
   ]
  },
  {
   "cell_type": "markdown",
   "metadata": {},
   "source": [
    "It works! For fun, let's do some kind of gradient function."
   ]
  },
  {
   "cell_type": "code",
   "execution_count": 57,
   "metadata": {},
   "outputs": [],
   "source": [
    "buf = make_header()\n",
    "for y in range(100):\n",
    "    for x in range(100):\n",
    "        buf.extend(struct.pack(\"BBB\", x*2, y*2, abs(x-y)*2))\n",
    "with open(\"img2.tga\", \"wb\") as f:\n",
    "    f.write(buf)"
   ]
  },
  {
   "cell_type": "code",
   "execution_count": 58,
   "metadata": {},
   "outputs": [
    {
     "data": {
      "image/png": "[encoded data removed]",
      "text/plain": [
       "<IPython.core.display.Image object>"
      ]
     },
     "execution_count": 58,
     "metadata": {},
     "output_type": "execute_result"
    }
   ],
   "source": [
    "!convert img2.tga img2.png\n",
    "Image(filename=\"img2.png\")"
   ]
  },
  {
   "cell_type": "markdown",
   "metadata": {},
   "source": [
    "Well, that's fun.\n",
    "\n",
    "Let's see what happens with a photograph represented as a TGA. TGA isn't at all a bad format for photos if storage space isn't a concern, because it supports a good amount of colors.\n",
    "\n",
    "But what should the photograph be of? Is there any person, place, or thing worthy of this format? Ideally with some detail and starpower?\n",
    "\n",
    "![img](http://i.imgur.com/vB6sXoK.png)"
   ]
  },
  {
   "attachments": {},
   "cell_type": "markdown",
   "metadata": {},
   "source": [
    "In that case, we have no choice but to use a TGA of Jeff Goldblum, instead of a Playboy model like so many other grapics tutorials/demos use.\n",
    "\n",
    "![img](https://i.imgur.com/M2LnIvU.jpg)\n",
    "\n",
    "I'm going to convert this to a TGA like the one we created ourselves, and compare it to the JPG of Goldblum I got off the web."
   ]
  },
  {
   "cell_type": "code",
   "execution_count": 59,
   "metadata": {},
   "outputs": [
    {
     "name": "stdout",
     "output_type": "stream",
     "text": [
      "32K\thandsome_devil.jpg\n",
      "704K\thandsome_devil.tga\n"
     ]
    }
   ],
   "source": [
    "!convert handsome_devil.jpg handsome_devil.tga\n",
    "\n",
    "# How big is he?!\n",
    "# as a compressed image\n",
    "!du -h handsome_devil.jpg\n",
    "!du -h handsome_devil.tga"
   ]
  },
  {
   "cell_type": "markdown",
   "metadata": {},
   "source": [
    "So, a JPEG is about 1/20th the size of a simple list of pixel values! How do they pull that off? There's some fascinating lossy compression going on, but that is for a future post.\n",
    "\n",
    "Next up, let's look at how lossy compression for a one-dimensional signal would work. That's right, we're shrinking audio files next post!"
   ]
  }
 ],
 "metadata": {
  "kernelspec": {
   "display_name": "Python 3",
   "language": "python",
   "name": "python3"
  },
  "language_info": {
   "codemirror_mode": {
    "name": "ipython",
    "version": 3
   },
   "file_extension": ".py",
   "mimetype": "text/x-python",
   "name": "python",
   "nbconvert_exporter": "python",
   "pygments_lexer": "ipython3",
   "version": "3.5.2"
  }
 },
 "nbformat": 4,
 "nbformat_minor": 2
}
