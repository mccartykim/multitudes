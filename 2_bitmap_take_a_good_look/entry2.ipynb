{
 "cells": [
  {
   "cell_type": "markdown",
   "metadata": {},
   "source": [
    "# Entry 2: Bitmap (BMP)\n",
    "## Take a good look\n",
    "\n",
    "As WAV was one of the simplest ways to hold an audio file, bitmap is one of the simplest ways to hold an image file. Like WAV, there's no compression, lossy or otherwise.\n",
    "\n",
    "## Context: What is stored?\n",
    "\n",
    "If you have sight, it's probably one of your keenest senses. Eyes tell us all about our environment. It was natural that computers would go beyond text to show images.\n",
    "\n",
    "Our eyes and cameras see light as it hits a plane. We have no real idea where the photons are going, just what their wavelength are and where they hit. So each of our eyes and a single camera will see a plane of wavelengths.\n",
    "\n",
    "While our audio files map out a single signal over one dimension, times the number of channels, images are a two dimensional signal best mapped on a grid. Further, there's the question of storing color in each cell of this grid. And in a sense, there's another level of depth in terms of the number of bits that go into describing the color in each cell.\n",
    "\n",
    "Color space is its own issue. While we can imagine most colors as a mixture of red, green, and blue light, and easily store color as three channels of color, we do not percieve all colors equally. Further, in low light, we percieve less color, and in near-darkness, we barely percieve color at all, because our retina's monochromatic rod cells function in low light unlike our color-sensitive cone cells.\n",
    "\n",
    "Here is a chart of where are eyes are most and least sensitive to color, assuming you aren't colorblind. [Courtesy of Wikimedia](https://en.wikipedia.org/wiki/File:Eyesensitivity.svg).\n",
    "\n",
    "![img](https://i.imgur.com/WF1fIJj.png)\n",
    "\n",
    "As you can see, our eyes are most attuned to greens, and less to more violet and red shades. From an evolutionary perspective, it's speculated this is to do with the importance of distinguishing plants in a prehistoric environment. But this is a blogpost about image formats and not how we evolved to be the smartest apes.\n",
    "\n",
    "But the past two paragraphs aren't extremely relevant here. But imagine how this knowledge could make a more compact/effective image format.\n",
    "\n",
    "Rather, what the BMP bitmap format does is store a list of RGB values, and assigns that index to each color. This means a single integer stands in for what would be a three integer structure. It reminds me a bit of the [palette systems older video game consoles used](https://en.wikipedia.org/wiki/List_of_video_game_console_palettes).\n",
    "\n",
    "## The Metadata\n",
    "\n",
    "For this example, I would like to use a bitmap conversion of our tapir friends from Entry 0. The version you're seeing below is a JPG, because bitmaps actually take up a good amount of space. It'd be a waste of bandwidth. How is it so much smaller? That's another post.\n",
    "\n",
    "![tapir](https://i.imgur.com/Eb3rHmNl.jpg)"
   ]
  },
  {
   "cell_type": "code",
   "execution_count": 6,
   "metadata": {},
   "outputs": [
    {
     "name": "stdout",
     "output_type": "stream",
     "text": [
      "512K\ttapir.jpg\n",
      "5.1M\ttapir.bmp\n",
      "tapir.bmp: PC bitmap, Windows 98/2000 and newer format, 1535 x 1150 x 24\n"
     ]
    }
   ],
   "source": [
    "# console time\n",
    "# converting our image from jpg to bmp using ImageMagick, a free and useful command line image utility\n",
    "! convert tapir.jpg tapir.bmp\n",
    "! du -h tapir.jpg\n",
    "! du -h tapir.bmp\n",
    "! file tapir.bmp"
   ]
  },
  {
   "cell_type": "markdown",
   "metadata": {},
   "source": [
    "Now we have a new tapir bitmap! Nice! And we know ImageMagick did its job because we double checked with `file`.\n",
    "\n",
    "BMP is indeed a Windows format, and the version we're looking at is pretty old. I'm consulting [these specifications of the format](https://msdn.microsoft.com/en-us/library/windows/desktop/dd183391(v=vs.85).aspx) from Microsoft's website.\n",
    "\n",
    "Let's open this stuff up in python and start reading some structs."
   ]
  },
  {
   "cell_type": "code",
   "execution_count": 9,
   "metadata": {},
   "outputs": [],
   "source": [
    "import struct\n",
    "\n",
    "# read our file as a binary\n",
    "with open(\"tapir.bmp\", \"rb\") as f:\n",
    "    bmp = f.read()\n",
    "    \n",
    "img_obj = {}\n",
    "\n"
   ]
  },
  {
   "cell_type": "markdown",
   "metadata": {},
   "source": [
    "Like in our last file, we have a string of bytes. Let's make out our headers. Per the Microsoft documentation, we have:\n",
    "\n",
    "![img](https://i.imgur.com/WRHSH6l.png)\n",
    "\n",
    "Let's first pull out that BITMAPFILEHEADER.\n",
    "\n",
    "That looks like:\n",
    "\n",
    "![http://i.imgur.com/uJmSbb5.png](http://i.imgur.com/uJmSbb5.png)\n",
    "\n",
    "Here, a WORD is a 16 bit unsigned int, and a DWORD is a 32 bit unsigned int. So those are our field sizes. bfType is actually two chars, `BM`, who are our magic number. bfSize is an integer of the file size. Both reserved fields are empty, presumably they were added as future-proofing so the format can be expanded. bfOffBits is the number of bytes to the first bits in the actual bitmap.\n",
    "\n",
    "Let's unpack those fields from the image."
   ]
  },
  {
   "cell_type": "code",
   "execution_count": 18,
   "metadata": {},
   "outputs": [
    {
     "name": "stdout",
     "output_type": "stream",
     "text": [
      "This is a BM image, that's 5299338 bytes long, and those bits for the bitmap are just 138 bytes from index 0.\n"
     ]
    }
   ],
   "source": [
    "# header length is 2 + 4 + 2 + 2 + 4 bytes, or 14 bytes\n",
    "# Interesting fact, you need an = prefix to ignore alignments\n",
    "bfType, bfSize, bfReserved1, bfReserved2, bfOffBits = struct.unpack(\"=2sIHHI\", bmp[:14])\n",
    "\n",
    "print(\"This is a {} image, that's {} bytes long, and those bits for the bitmap are just {} bytes from index 0.\"\n",
    "     .format(bfType.decode(\"UTF-8\"), bfSize, bfOffBits))"
   ]
  },
  {
   "cell_type": "markdown",
   "metadata": {},
   "source": [
    "Neat, on to the next header!\n",
    "\n",
    "This follows the format below:\n",
    "![img](http://i.imgur.com/zfAZchy.png)\n",
    "\n"
   ]
  },
  {
   "cell_type": "markdown",
   "metadata": {},
   "source": [
    "biSize describes the size of the bitmap structure. biWidth is how many pixels wide the image is. And biHeight is the height in pixels.\n",
    "\n",
    "biPlanes is always 1. It says \"number of planes for the target device,\" and I'm curious what exactly this was meant for. Stereovision? Animated gifs? Who knows.\n",
    "\n",
    "biBitCount is the number of bits per pixel. So, a purely black and white image would have one bit, and for any other value we'd have 2^n possible values. `file` tells us to expect 24 bits.\n",
    "\n",
    "biCompression specifies what compression scheme is used. We aren't using one, so we should get the constant for no compression here. Aparently, the BMP format can encode JPEG or PNG formated images as well, which I didn't know and haven't really encountered to my knowledge.\n",
    "\n",
    "biSizeImage is the size of the image data in the file in bytes. In our case, this will actually be 0 because it's redundant.\n",
    "\n",
    "biXPelsPerMeter and biYPelsPerMeter are units like DPI, in that they specify how the image should be scaled for printing or a monitor of a certain size.\n",
    "\n",
    "biClrUsed is the number of colors in the bitmap, and biClrImportant is the number of colors required to display the image. I'm not quite clear on what the difference is or why there are two fields."
   ]
  },
  {
   "cell_type": "code",
   "execution_count": 42,
   "metadata": {},
   "outputs": [
    {
     "data": {
      "text/plain": [
       "124"
      ]
     },
     "execution_count": 42,
     "metadata": {},
     "output_type": "execute_result"
    }
   ],
   "source": [
    "biSize, biWidth, biHeight, biPlanes, biBitCount,\\\n",
    "    biCompression, biSizeImage, biXPelsPerMeter, \\\n",
    "    biYPelPerMeter, biClrUsed, biClrImportant = struct.unpack(\"=IllHHIIllII\", bmp[14:14+40])\n",
    "biSize"
   ]
  },
  {
   "cell_type": "code",
   "execution_count": null,
   "metadata": {},
   "outputs": [],
   "source": [
    "    "
   ]
  }
 ],
 "metadata": {
  "kernelspec": {
   "display_name": "Python 3",
   "language": "python",
   "name": "python3"
  },
  "language_info": {
   "codemirror_mode": {
    "name": "ipython",
    "version": 3
   },
   "file_extension": ".py",
   "mimetype": "text/x-python",
   "name": "python",
   "nbconvert_exporter": "python",
   "pygments_lexer": "ipython3",
   "version": "3.5.2"
  }
 },
 "nbformat": 4,
 "nbformat_minor": 2
}
